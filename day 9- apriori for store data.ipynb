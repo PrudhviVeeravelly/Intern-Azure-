{
 "cells": [
  {
   "cell_type": "code",
   "execution_count": 9,
   "metadata": {},
   "outputs": [],
   "source": [
    "from mlxtend.frequent_patterns import apriori\n",
    "from mlxtend.preprocessing import TransactionEncoder"
   ]
  },
  {
   "cell_type": "code",
   "execution_count": 10,
   "metadata": {},
   "outputs": [
    {
     "data": {
      "text/plain": [
       "array([['shrimp', 'almonds', 'avocado', ..., 'frozen smoothie',\n",
       "        'spinach', 'olive oil'],\n",
       "       ['burgers', 'meatballs', 'eggs', ..., '', '', ''],\n",
       "       ['chutney', '', '', ..., '', '', ''],\n",
       "       ...,\n",
       "       ['chicken', '', '', ..., '', '', ''],\n",
       "       ['escalope', 'green tea', '', ..., '', '', ''],\n",
       "       ['eggs', 'frozen smoothie', 'yogurt cake', ..., '', '', '']],\n",
       "      dtype=object)"
      ]
     },
     "execution_count": 10,
     "metadata": {},
     "output_type": "execute_result"
    }
   ],
   "source": [
    "import pandas as pd\n",
    "import numpy as np\n",
    "d=pd.read_csv('C:/Users/admin/Desktop/ML/data/store_data.csv',header=None,na_filter=False)\n",
    "d=np.array(d)\n",
    "d"
   ]
  },
  {
   "cell_type": "code",
   "execution_count": 11,
   "metadata": {},
   "outputs": [],
   "source": [
    "te1=TransactionEncoder()\n",
    "te_ary1=te1.fit(d).transform(d)  \n",
    "df=pd.DataFrame(te_ary1,columns=te1.columns_)\n",
    "df=df.drop('',axis=1)    #to remove a column, use drop and the first argument is the column name\n",
    "                        #Here we are removing the space column, and \n",
    "                        #in order to remove a row , axis=0 and to remove a column, axis=1"
   ]
  },
  {
   "cell_type": "code",
   "execution_count": 12,
   "metadata": {},
   "outputs": [
    {
     "name": "stdout",
     "output_type": "stream",
     "text": [
      "frozenset({'chocolate'})\n",
      "frozenset({'chocolate', 'burgers'})\n",
      "frozenset({'cake', 'chocolate'})\n",
      "frozenset({'chocolate', 'champagne'})\n",
      "frozenset({'chocolate', 'chicken'})\n",
      "frozenset({'chocolate', 'cookies'})\n",
      "frozenset({'chocolate', 'cooking oil'})\n",
      "frozenset({'eggs', 'chocolate'})\n",
      "frozenset({'escalope', 'chocolate'})\n",
      "frozenset({'french fries', 'chocolate'})\n",
      "frozenset({'chocolate', 'frozen smoothie'})\n",
      "frozenset({'frozen vegetables', 'chocolate'})\n",
      "frozenset({'chocolate', 'grated cheese'})\n",
      "frozenset({'green tea', 'chocolate'})\n",
      "frozenset({'ground beef', 'chocolate'})\n",
      "frozenset({'chocolate', 'low fat yogurt'})\n",
      "frozenset({'chocolate', 'milk'})\n",
      "frozenset({'chocolate', 'mineral water'})\n",
      "frozenset({'olive oil', 'chocolate'})\n",
      "frozenset({'pancakes', 'chocolate'})\n",
      "frozenset({'salmon', 'chocolate'})\n",
      "frozenset({'shrimp', 'chocolate'})\n",
      "frozenset({'chocolate', 'soup'})\n",
      "frozenset({'chocolate', 'spaghetti'})\n",
      "frozenset({'chocolate', 'tomatoes'})\n",
      "frozenset({'turkey', 'chocolate'})\n",
      "frozenset({'whole wheat rice', 'chocolate'})\n",
      "frozenset({'eggs', 'chocolate', 'mineral water'})\n",
      "frozenset({'eggs', 'chocolate', 'spaghetti'})\n",
      "frozenset({'ground beef', 'chocolate', 'mineral water'})\n",
      "frozenset({'milk', 'chocolate', 'mineral water'})\n",
      "frozenset({'milk', 'chocolate', 'spaghetti'})\n",
      "frozenset({'chocolate', 'mineral water', 'spaghetti'})\n"
     ]
    }
   ],
   "source": [
    "#for loop to print all the values which contains choclate as the itemset\n",
    "\n",
    "frequent_itemsets=apriori(df,min_support=0.01,use_colnames=True)\n",
    "for i in range(len(frequent_itemsets['itemsets'])):\n",
    "    if 'chocolate' in frequent_itemsets['itemsets'][i]:\n",
    "        print(frequent_itemsets['itemsets'][i])\n",
    "    else:\n",
    "        pass\n",
    "    \n",
    "#frozen set is, the elements can be the same like even if its burger, choclate or choclate,burger"
   ]
  },
  {
   "cell_type": "code",
   "execution_count": 13,
   "metadata": {},
   "outputs": [],
   "source": [
    "frequent_itemsets['length']=frequent_itemsets['itemsets'].apply(lambda x:len(x)) #lambda is used to create a function"
   ]
  },
  {
   "cell_type": "code",
   "execution_count": 15,
   "metadata": {},
   "outputs": [
    {
     "data": {
      "text/html": [
       "<div>\n",
       "<style scoped>\n",
       "    .dataframe tbody tr th:only-of-type {\n",
       "        vertical-align: middle;\n",
       "    }\n",
       "\n",
       "    .dataframe tbody tr th {\n",
       "        vertical-align: top;\n",
       "    }\n",
       "\n",
       "    .dataframe thead th {\n",
       "        text-align: right;\n",
       "    }\n",
       "</style>\n",
       "<table border=\"1\" class=\"dataframe\">\n",
       "  <thead>\n",
       "    <tr style=\"text-align: right;\">\n",
       "      <th></th>\n",
       "      <th>support</th>\n",
       "      <th>itemsets</th>\n",
       "      <th>length</th>\n",
       "    </tr>\n",
       "  </thead>\n",
       "  <tbody>\n",
       "    <tr>\n",
       "      <th>245</th>\n",
       "      <td>0.015865</td>\n",
       "      <td>(chocolate, mineral water, spaghetti)</td>\n",
       "      <td>3</td>\n",
       "    </tr>\n",
       "    <tr>\n",
       "      <th>253</th>\n",
       "      <td>0.017064</td>\n",
       "      <td>(ground beef, mineral water, spaghetti)</td>\n",
       "      <td>3</td>\n",
       "    </tr>\n",
       "    <tr>\n",
       "      <th>254</th>\n",
       "      <td>0.015731</td>\n",
       "      <td>(milk, mineral water, spaghetti)</td>\n",
       "      <td>3</td>\n",
       "    </tr>\n",
       "  </tbody>\n",
       "</table>\n",
       "</div>"
      ],
      "text/plain": [
       "      support                                 itemsets  length\n",
       "245  0.015865    (chocolate, mineral water, spaghetti)       3\n",
       "253  0.017064  (ground beef, mineral water, spaghetti)       3\n",
       "254  0.015731         (milk, mineral water, spaghetti)       3"
      ]
     },
     "execution_count": 15,
     "metadata": {},
     "output_type": "execute_result"
    }
   ],
   "source": [
    "frequent_itemsets[( frequent_itemsets['support'] >=0.015) & (frequent_itemsets['length']==3) ]"
   ]
  },
  {
   "cell_type": "code",
   "execution_count": 66,
   "metadata": {},
   "outputs": [],
   "source": [
    "import matplotlib.pyplot as plt\n",
    "img1 = plt.imread('C:/Users/admin/Desktop/ML/choclate.jpeg')\n",
    "img2 = plt.imread('C:/Users/admin/Desktop/ML/mineral water.jpeg')\n",
    "img3 = plt.imread('C:/Users/admin/Desktop/ML/spaghetti.jpeg')\n",
    "img4=plt.imread('C:/Users/admin/Desktop/ML/plus.png')"
   ]
  },
  {
   "cell_type": "code",
   "execution_count": 76,
   "metadata": {},
   "outputs": [
    {
     "name": "stdout",
     "output_type": "stream",
     "text": [
      "Recommended for you:\n"
     ]
    },
    {
     "data": {
      "image/png": "[encoded data removed]",
      "text/plain": [
       "<Figure size 432x288 with 5 Axes>"
      ]
     },
     "metadata": {
      "needs_background": "light"
     },
     "output_type": "display_data"
    },
    {
     "name": "stdout",
     "output_type": "stream",
     "text": [
      "                     =Rs. 499\t"
     ]
    }
   ],
   "source": [
    "\n",
    "print(\"Recommended for you:\")\n",
    "plt.subplot(1,5,1)\n",
    "plt.imshow(img1)\n",
    "plt.title('chocolate')\n",
    "\n",
    "plt.subplot(1,5,2)\n",
    "plt.imshow(img4)\n",
    "\n",
    "plt.subplot(1,5,3)\n",
    "plt.imshow(img2)\n",
    "plt.title('mineral water')\n",
    "\n",
    "plt.subplot(1,5,4)\n",
    "plt.imshow(img4)\n",
    "\n",
    "plt.subplot(1,5,5)\n",
    "plt.imshow(img3)\n",
    "plt.title('spaghetti')\n",
    "\n",
    "plt.show()\n",
    "print(\"\",\"=Rs. 499\",sep=\"                     \",end='\\t')"
   ]
  }
 ],
 "metadata": {
  "kernelspec": {
   "display_name": "Python 3",
   "language": "python",
   "name": "python3"
  },
  "language_info": {
   "codemirror_mode": {
    "name": "ipython",
    "version": 3
   },
   "file_extension": ".py",
   "mimetype": "text/x-python",
   "name": "python",
   "nbconvert_exporter": "python",
   "pygments_lexer": "ipython3",
   "version": "3.7.3"
  }
 },
 "nbformat": 4,
 "nbformat_minor": 2
}
